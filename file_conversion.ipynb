{
 "cells": [
  {
   "cell_type": "code",
   "execution_count": 2,
   "id": "63941340",
   "metadata": {},
   "outputs": [],
   "source": [
    "from pathlib import Path\n",
    "import os\n",
    "import win32com.client as win32\n",
    "\n",
    "\n",
    "def cargar_path(path):\n",
    "    '''\n",
    "    Aceptal el path a un directorio conteniendo multiples archivos doc\n",
    "    y los convierte en docx los archivos\n",
    "    '''\n",
    "    p=Path(path)\n",
    "    convert_doc_to_docx(p)\n",
    "    return list(p.glob('**\\*.docx'))\n",
    "\n",
    "def convert_doc_to_docx(path):\n",
    "    '''\n",
    "    toma los path y chequea si hay archivos doc, si lo hay los tranforma en docx\n",
    "    si hay docx no hace nada\n",
    "    Elimina los archivos doc luego de su conversion\n",
    "    \n",
    "    '''\n",
    "    # Initialize Word application\n",
    "    word = win32.Dispatch(\"Word.Application\")\n",
    "    word.Visible = False  # Run in the background (headless)\n",
    "    \n",
    "    # check if docx already exists\n",
    "    temp = list(path.glob('**/*.docx'))\n",
    "    try:\n",
    "        if not temp:\n",
    "            temp = list(path.glob('**/*.doc'))\n",
    "            for doc in temp:\n",
    "                docx_path = doc.with_suffix('.docx')  # Change extension to .docx\n",
    "\n",
    "                # Open the .doc file in Word\n",
    "                doc_obj = word.Documents.Open(str(doc))\n",
    "\n",
    "                # Save as .docx\n",
    "                doc_obj.SaveAs(str(docx_path), FileFormat=16)  # 16 is the format code for .docx\n",
    "                doc_obj.Close()  # Close the document\n",
    "                # Delete the original .doc file\n",
    "                doc.unlink()  # Using pathlib's unlink() method\n",
    "    except Exception as e:\n",
    "        print(f\"Error converting {doc}: {e}\")\n",
    "    finally:\n",
    "        word.Quit()\n"
   ]
  }
 ],
 "metadata": {
  "kernelspec": {
   "display_name": "Python 3 (ipykernel)",
   "language": "python",
   "name": "python3"
  },
  "language_info": {
   "codemirror_mode": {
    "name": "ipython",
    "version": 3
   },
   "file_extension": ".py",
   "mimetype": "text/x-python",
   "name": "python",
   "nbconvert_exporter": "python",
   "pygments_lexer": "ipython3",
   "version": "3.9.13"
  }
 },
 "nbformat": 4,
 "nbformat_minor": 5
}
