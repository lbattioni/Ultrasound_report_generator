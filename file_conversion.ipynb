{
 "cells": [
  {
   "cell_type": "code",
   "execution_count": 1,
   "id": "63941340",
   "metadata": {},
   "outputs": [],
   "source": [
    "from pathlib import Path\n",
    "import os\n",
    "import win32com.client as win32\n",
    "\n",
    "\n",
    "def cargar_path(path):\n",
    "    '''\n",
    "    Aceptal el path a un directorio conteniendo multiples archivos doc\n",
    "    y los convierte en docx los archivos\n",
    "    '''\n",
    "    p=Path(path)\n",
    "    convert_doc_to_docx(p)\n",
    "    return list(p.glob('**\\*.docx'))\n",
    "\n",
    "def convert_doc_to_docx(path):\n",
    "    '''\n",
    "    This function checks for .doc files in the directory, converts them to .docx if \n",
    "    there are more .doc files than .docx, and deletes the original .doc files after conversion.\n",
    "    \n",
    "    Parameters:\n",
    "    path (Path object): The directory path containing the .doc and .docx files.\n",
    "    '''\n",
    "    # Initialize Word application\n",
    "    word = win32.Dispatch(\"Word.Application\")\n",
    "    word.Visible = False  # Run in the background (headless)\n",
    "\n",
    "    try:\n",
    "        # Find all .doc and .docx files\n",
    "        doc_files = list(path.glob('**/*.doc'))\n",
    "        docx_files = list(path.glob('**/*.docx'))\n",
    "\n",
    "        # Compare the count of .doc and .docx files\n",
    "        if len(doc_files) > len(docx_files):\n",
    "            for doc in doc_files:\n",
    "                # Check if the corresponding .docx file already exists\n",
    "                docx_path = doc.with_suffix('.docx')\n",
    "                if not docx_path.exists():  # Only convert if .docx doesn't already exist\n",
    "                    # Open the .doc file in Word\n",
    "                    doc_obj = word.Documents.Open(str(doc))\n",
    "                    # Save as .docx\n",
    "                    doc_obj.SaveAs(str(docx_path), FileFormat=16)  # 16 is the format code for .docx\n",
    "                    doc_obj.Close()  # Close the document\n",
    "                    # Delete the original .doc file after conversion\n",
    "                    doc.unlink()\n",
    "                    print(f\"Converted {doc} to {docx_path}\")\n",
    "        else:\n",
    "            print(\"No conversion needed: .docx files are equal to or outnumber .doc files.\")\n",
    "    \n",
    "    except Exception as e:\n",
    "        print(f\"Error during conversion: {e}\")\n",
    "    \n",
    "    finally:\n",
    "        word.Quit()\n",
    "\n"
   ]
  },
  {
   "cell_type": "code",
   "execution_count": null,
   "id": "3ad4c371",
   "metadata": {},
   "outputs": [],
   "source": []
  }
 ],
 "metadata": {
  "kernelspec": {
   "display_name": "Python 3 (ipykernel)",
   "language": "python",
   "name": "python3"
  },
  "language_info": {
   "codemirror_mode": {
    "name": "ipython",
    "version": 3
   },
   "file_extension": ".py",
   "mimetype": "text/x-python",
   "name": "python",
   "nbconvert_exporter": "python",
   "pygments_lexer": "ipython3",
   "version": "3.9.13"
  }
 },
 "nbformat": 4,
 "nbformat_minor": 5
}
