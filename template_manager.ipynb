{
 "cells": [
  {
   "cell_type": "code",
   "execution_count": 1,
   "id": "47cc9dd5",
   "metadata": {},
   "outputs": [],
   "source": [
    "from docxtpl import DocxTemplate\n",
    "from docx import Document\n",
    "\n",
    "def template_selector(path)->tuple: \n",
    "    \n",
    "    '''\n",
    "    Carga por default el template de doppler cardiaco en el pendrive\n",
    "    acepta el path del estudio del paciente generado por el equipo vinno\n",
    "    Si el path contiene las palabras carotid, arteries o veins cambia al tipo de template correspondiente\n",
    "    si no encuentra estas palabras abre el docx y busca la palabra WMS en las tablas del informe (esto determinaria un ecostres)\n",
    "    si la encuentra cambia al ecostress\n",
    "    Devuelve el template correspondiente con el tipo de template, para ser usado en la funcion render template\n",
    "    '''\n",
    "    #por default elijo la plantilla de cardio\n",
    "    template_path=\"C:\\\\Users\\\\lucho\\\\Desktop\\\\Plantillas\\\\auto card.docx\"\n",
    "    tipo='card'\n",
    "    path_str=str(path)\n",
    "    #chqueo si en el path esta la palabra carotida si esta cambio a esa plantilla\n",
    "    try:\n",
    "        if 'Carotid' in path_str:\n",
    "            \n",
    "            template_path=r\"C:\\Users\\lucho\\Desktop\\Plantillas\\auto vc.docx\"  \n",
    "            tipo='carotid'\n",
    "        elif 'Arteries' in path_str :#art\n",
    "            template_path=r\"C:\\Users\\lucho\\Desktop\\Plantillas\\auto art.docx\"\n",
    "            tipo='art'\n",
    "        elif'Veins' in path_str:\n",
    "            template_path=r\"C:\\Users\\lucho\\Desktop\\Plantillas\\auto ven.docx\"   \n",
    "            tipo='ven'\n",
    "        else: \n",
    "            #el try es porque para distinguir cardio de stress neceisto acceder a una tabla, si la tabla no esta para el progrmaa\n",
    "            #de esta manera con un try evito que se rompa si no esta y le asigo el valor default\n",
    "            doc=Document(path)\n",
    "            if doc.tables[2].rows[0].cells[0].text=='WMS':\n",
    "                template_path=\"C:\\\\Users\\\\lucho\\\\Desktop\\\\Plantillas\\\\auto stress.docx\"\n",
    "                tipo='stress'\n",
    "    except (IndexError, AttributeError) as e:\n",
    "        # Log or handle specific exceptions if needed\n",
    "        print(f\"Error: {e}, defaulting to 'card' template.\")\n",
    "        \n",
    "    template = DocxTemplate(template_path)\n",
    "\n",
    "    return template,tipo\n",
    "\n",
    "\n",
    "\n",
    "\n",
    "def template_selector_gui(path_template,path_study)->tuple: \n",
    "    \n",
    "    '''\n",
    "    Takes the path of the templates folder and the path to the individual study, by defaults loads 'auto card'.\n",
    "    will change to 'auto vc', 'auto art','auto stress' or 'auto ven' depending on the extention of the path of the study\n",
    "    returns the corresponding template objetct and its type\n",
    "    Devuelve el template correspondiente con el tipo de template, para ser usado en la funcion render template\n",
    "    '''\n",
    "    #por default elijo la plantilla de cardio\n",
    "    template_path=path_template+'\\\\auto card.docx'\n",
    "    tipo='card'\n",
    "    path_str=str(path_study)\n",
    "    #chqueo si en el path esta la palabra carotida si esta cambio a esa plantilla\n",
    "    try:\n",
    "        if 'Carotid' in path_str:\n",
    "            \n",
    "            template_path=path_template+'\\\\auto vc.docx'  \n",
    "            tipo='carotid'\n",
    "        elif 'Arteries' in path_str :#art\n",
    "            template_path=path_template+'\\\\auto art.docx'\n",
    "            tipo='art'\n",
    "        elif'Veins' in path_str:\n",
    "            template_path=path_template+'\\\\auto ven.docx'\n",
    "            tipo='ven'\n",
    "        else: \n",
    "            #el try es porque para distinguir cardio de stress neceisto acceder a una tabla, si la tabla no esta para el progrmaa\n",
    "            #de esta manera con un try evito que se rompa si no esta y le asigo el valor default\n",
    "            doc=Document(path_study)\n",
    "            if doc.tables[2].rows[0].cells[0].text=='WMS':\n",
    "                template_path=path_template+'\\\\auto stress.docx'\n",
    "                tipo='stress'\n",
    "    except (IndexError, AttributeError) as e:\n",
    "        # Log or handle specific exceptions if needed\n",
    "        print(f\"Error: {e}, defaulting to 'card' template.\")\n",
    "        \n",
    "    template = DocxTemplate(template_path)\n",
    "    return template,tipo\n",
    "\n"
   ]
  },
  {
   "cell_type": "code",
   "execution_count": 1,
   "id": "9e235545-0cd2-49ee-ac9a-bc88ebff9aea",
   "metadata": {},
   "outputs": [
    {
     "name": "stderr",
     "output_type": "stream",
     "text": [
      "[NbConvertApp] Converting notebook template_manager.ipynb to python\n",
      "[NbConvertApp] Writing 5330 bytes to template_manager.py\n"
     ]
    }
   ],
   "source": [
    "!jupyter nbconvert --to python template_manager.ipynb"
   ]
  },
  {
   "cell_type": "code",
   "execution_count": 2,
   "id": "beb5229e",
   "metadata": {},
   "outputs": [
    {
     "ename": "PackageNotFoundError",
     "evalue": "Package not found at 'C:\\Users\\lucho\\Documents\\temp\\documentos\\[agustinaturcaloro]-[20250411016]-[eebae217-ce27-4afc-8b7c-e5d28df89468]\\17_S1-6P_Lucho Card.Report.V3.docx'",
     "output_type": "error",
     "traceback": [
      "\u001b[31m---------------------------------------------------------------------------\u001b[39m",
      "\u001b[31mPackageNotFoundError\u001b[39m                      Traceback (most recent call last)",
      "\u001b[36mCell\u001b[39m\u001b[36m \u001b[39m\u001b[32mIn[2]\u001b[39m\u001b[32m, line 3\u001b[39m\n\u001b[32m      1\u001b[39m path_template= \u001b[33mr\u001b[39m\u001b[33m\"\u001b[39m\u001b[33mC:\u001b[39m\u001b[33m\\\u001b[39m\u001b[33mUsers\u001b[39m\u001b[33m\\\u001b[39m\u001b[33mlucho\u001b[39m\u001b[33m\\\u001b[39m\u001b[33mDesktop\u001b[39m\u001b[33m\\\u001b[39m\u001b[33mPlantillas\u001b[39m\u001b[33m\"\u001b[39m\n\u001b[32m      2\u001b[39m path_studies=\u001b[33mr\u001b[39m\u001b[33m\"\u001b[39m\u001b[33mC:\u001b[39m\u001b[33m\\\u001b[39m\u001b[33mUsers\u001b[39m\u001b[33m\\\u001b[39m\u001b[33mlucho\u001b[39m\u001b[33m\\\u001b[39m\u001b[33mDocuments\u001b[39m\u001b[33m\\\u001b[39m\u001b[33mtemp\u001b[39m\u001b[33m\\\u001b[39m\u001b[33mdocumentos\u001b[39m\u001b[33m\\\u001b[39m\u001b[33m[agustinaturcaloro]-[20250411016]-[eebae217-ce27-4afc-8b7c-e5d28df89468]\u001b[39m\u001b[33m\\\u001b[39m\u001b[33m17_S1-6P_Lucho Card.Report.V3.docx\u001b[39m\u001b[33m\"\u001b[39m\n\u001b[32m----> \u001b[39m\u001b[32m3\u001b[39m \u001b[43mtemplate_selector\u001b[49m\u001b[43m(\u001b[49m\u001b[43mpath_studies\u001b[49m\u001b[43m)\u001b[49m\n",
      "\u001b[36mCell\u001b[39m\u001b[36m \u001b[39m\u001b[32mIn[1]\u001b[39m\u001b[32m, line 33\u001b[39m, in \u001b[36mtemplate_selector\u001b[39m\u001b[34m(path)\u001b[39m\n\u001b[32m     29\u001b[39m     tipo=\u001b[33m'\u001b[39m\u001b[33mven\u001b[39m\u001b[33m'\u001b[39m\n\u001b[32m     30\u001b[39m \u001b[38;5;28;01melse\u001b[39;00m: \n\u001b[32m     31\u001b[39m     \u001b[38;5;66;03m#el try es porque para distinguir cardio de stress neceisto acceder a una tabla, si la tabla no esta para el progrmaa\u001b[39;00m\n\u001b[32m     32\u001b[39m     \u001b[38;5;66;03m#de esta manera con un try evito que se rompa si no esta y le asigo el valor default\u001b[39;00m\n\u001b[32m---> \u001b[39m\u001b[32m33\u001b[39m     doc=\u001b[43mDocument\u001b[49m\u001b[43m(\u001b[49m\u001b[43mpath\u001b[49m\u001b[43m)\u001b[49m\n\u001b[32m     34\u001b[39m     \u001b[38;5;28;01mif\u001b[39;00m doc.tables[\u001b[32m2\u001b[39m].rows[\u001b[32m0\u001b[39m].cells[\u001b[32m0\u001b[39m].text==\u001b[33m'\u001b[39m\u001b[33mWMS\u001b[39m\u001b[33m'\u001b[39m:\n\u001b[32m     35\u001b[39m         template_path=\u001b[33m\"\u001b[39m\u001b[33mC:\u001b[39m\u001b[38;5;130;01m\\\\\u001b[39;00m\u001b[33mUsers\u001b[39m\u001b[38;5;130;01m\\\\\u001b[39;00m\u001b[33mlucho\u001b[39m\u001b[38;5;130;01m\\\\\u001b[39;00m\u001b[33mDesktop\u001b[39m\u001b[38;5;130;01m\\\\\u001b[39;00m\u001b[33mPlantillas\u001b[39m\u001b[38;5;130;01m\\\\\u001b[39;00m\u001b[33mauto stress.docx\u001b[39m\u001b[33m\"\u001b[39m\n",
      "\u001b[36mFile \u001b[39m\u001b[32m~\\AppData\\Local\\Programs\\Python\\Python313\\Lib\\site-packages\\docx\\api.py:27\u001b[39m, in \u001b[36mDocument\u001b[39m\u001b[34m(docx)\u001b[39m\n\u001b[32m     20\u001b[39m \u001b[38;5;250m\u001b[39m\u001b[33;03m\"\"\"Return a |Document| object loaded from `docx`, where `docx` can be either a path\u001b[39;00m\n\u001b[32m     21\u001b[39m \u001b[33;03mto a ``.docx`` file (a string) or a file-like object.\u001b[39;00m\n\u001b[32m     22\u001b[39m \n\u001b[32m     23\u001b[39m \u001b[33;03mIf `docx` is missing or ``None``, the built-in default document \"template\" is\u001b[39;00m\n\u001b[32m     24\u001b[39m \u001b[33;03mloaded.\u001b[39;00m\n\u001b[32m     25\u001b[39m \u001b[33;03m\"\"\"\u001b[39;00m\n\u001b[32m     26\u001b[39m docx = _default_docx_path() \u001b[38;5;28;01mif\u001b[39;00m docx \u001b[38;5;129;01mis\u001b[39;00m \u001b[38;5;28;01mNone\u001b[39;00m \u001b[38;5;28;01melse\u001b[39;00m docx\n\u001b[32m---> \u001b[39m\u001b[32m27\u001b[39m document_part = cast(\u001b[33m\"\u001b[39m\u001b[33mDocumentPart\u001b[39m\u001b[33m\"\u001b[39m, \u001b[43mPackage\u001b[49m\u001b[43m.\u001b[49m\u001b[43mopen\u001b[49m\u001b[43m(\u001b[49m\u001b[43mdocx\u001b[49m\u001b[43m)\u001b[49m.main_document_part)\n\u001b[32m     28\u001b[39m \u001b[38;5;28;01mif\u001b[39;00m document_part.content_type != CT.WML_DOCUMENT_MAIN:\n\u001b[32m     29\u001b[39m     tmpl = \u001b[33m\"\u001b[39m\u001b[33mfile \u001b[39m\u001b[33m'\u001b[39m\u001b[38;5;132;01m%s\u001b[39;00m\u001b[33m'\u001b[39m\u001b[33m is not a Word file, content type is \u001b[39m\u001b[33m'\u001b[39m\u001b[38;5;132;01m%s\u001b[39;00m\u001b[33m'\u001b[39m\u001b[33m\"\u001b[39m\n",
      "\u001b[36mFile \u001b[39m\u001b[32m~\\AppData\\Local\\Programs\\Python\\Python313\\Lib\\site-packages\\docx\\opc\\package.py:127\u001b[39m, in \u001b[36mOpcPackage.open\u001b[39m\u001b[34m(cls, pkg_file)\u001b[39m\n\u001b[32m    124\u001b[39m \u001b[38;5;129m@classmethod\u001b[39m\n\u001b[32m    125\u001b[39m \u001b[38;5;28;01mdef\u001b[39;00m\u001b[38;5;250m \u001b[39m\u001b[34mopen\u001b[39m(\u001b[38;5;28mcls\u001b[39m, pkg_file: \u001b[38;5;28mstr\u001b[39m | IO[\u001b[38;5;28mbytes\u001b[39m]) -> OpcPackage:\n\u001b[32m    126\u001b[39m \u001b[38;5;250m    \u001b[39m\u001b[33;03m\"\"\"Return an |OpcPackage| instance loaded with the contents of `pkg_file`.\"\"\"\u001b[39;00m\n\u001b[32m--> \u001b[39m\u001b[32m127\u001b[39m     pkg_reader = \u001b[43mPackageReader\u001b[49m\u001b[43m.\u001b[49m\u001b[43mfrom_file\u001b[49m\u001b[43m(\u001b[49m\u001b[43mpkg_file\u001b[49m\u001b[43m)\u001b[49m\n\u001b[32m    128\u001b[39m     package = \u001b[38;5;28mcls\u001b[39m()\n\u001b[32m    129\u001b[39m     Unmarshaller.unmarshal(pkg_reader, package, PartFactory)\n",
      "\u001b[36mFile \u001b[39m\u001b[32m~\\AppData\\Local\\Programs\\Python\\Python313\\Lib\\site-packages\\docx\\opc\\pkgreader.py:22\u001b[39m, in \u001b[36mPackageReader.from_file\u001b[39m\u001b[34m(pkg_file)\u001b[39m\n\u001b[32m     19\u001b[39m \u001b[38;5;129m@staticmethod\u001b[39m\n\u001b[32m     20\u001b[39m \u001b[38;5;28;01mdef\u001b[39;00m\u001b[38;5;250m \u001b[39m\u001b[34mfrom_file\u001b[39m(pkg_file):\n\u001b[32m     21\u001b[39m \u001b[38;5;250m    \u001b[39m\u001b[33;03m\"\"\"Return a |PackageReader| instance loaded with contents of `pkg_file`.\"\"\"\u001b[39;00m\n\u001b[32m---> \u001b[39m\u001b[32m22\u001b[39m     phys_reader = \u001b[43mPhysPkgReader\u001b[49m\u001b[43m(\u001b[49m\u001b[43mpkg_file\u001b[49m\u001b[43m)\u001b[49m\n\u001b[32m     23\u001b[39m     content_types = _ContentTypeMap.from_xml(phys_reader.content_types_xml)\n\u001b[32m     24\u001b[39m     pkg_srels = PackageReader._srels_for(phys_reader, PACKAGE_URI)\n",
      "\u001b[36mFile \u001b[39m\u001b[32m~\\AppData\\Local\\Programs\\Python\\Python313\\Lib\\site-packages\\docx\\opc\\phys_pkg.py:21\u001b[39m, in \u001b[36mPhysPkgReader.__new__\u001b[39m\u001b[34m(cls, pkg_file)\u001b[39m\n\u001b[32m     19\u001b[39m         reader_cls = _ZipPkgReader\n\u001b[32m     20\u001b[39m     \u001b[38;5;28;01melse\u001b[39;00m:\n\u001b[32m---> \u001b[39m\u001b[32m21\u001b[39m         \u001b[38;5;28;01mraise\u001b[39;00m PackageNotFoundError(\u001b[33m\"\u001b[39m\u001b[33mPackage not found at \u001b[39m\u001b[33m'\u001b[39m\u001b[38;5;132;01m%s\u001b[39;00m\u001b[33m'\u001b[39m\u001b[33m\"\u001b[39m % pkg_file)\n\u001b[32m     22\u001b[39m \u001b[38;5;28;01melse\u001b[39;00m:  \u001b[38;5;66;03m# assume it's a stream and pass it to Zip reader to sort out\u001b[39;00m\n\u001b[32m     23\u001b[39m     reader_cls = _ZipPkgReader\n",
      "\u001b[31mPackageNotFoundError\u001b[39m: Package not found at 'C:\\Users\\lucho\\Documents\\temp\\documentos\\[agustinaturcaloro]-[20250411016]-[eebae217-ce27-4afc-8b7c-e5d28df89468]\\17_S1-6P_Lucho Card.Report.V3.docx'"
     ]
    }
   ],
   "source": [
    "path_template= r\"C:\\Users\\lucho\\Desktop\\Plantillas\"\n",
    "path_studies=r\"C:\\Users\\lucho\\Documents\\temp\\documentos\\[agustinaturcaloro]-[20250411016]-[eebae217-ce27-4afc-8b7c-e5d28df89468]\\17_S1-6P_Lucho Card.Report.V3.docx\"\n",
    "template_selector(path_studies)\n"
   ]
  },
  {
   "cell_type": "markdown",
   "id": "fcf05edd",
   "metadata": {},
   "source": [
    "\n",
    "def remove_empty_paragraphs_in_section_stress(template):\n",
    "    \"\"\"\n",
    "    Removes empty paragraphs or those with only whitespace between the sections 'Reposo' and 'Conclusión' stress tremplate.\n",
    "\n",
    "    Args:\n",
    "        template (DocxTemplate): A rendered DocxTemplate object.\n",
    "\n",
    "    Modifies:\n",
    "        The template object in place.\n",
    "    \"\"\"\n",
    "    doc = template.docx  # Access the underlying Document object\n",
    "    paragraphs = doc.paragraphs\n",
    "\n",
    "    # Flags to track when to start and stop removing paragraphs\n",
    "    in_target_section = False\n",
    "\n",
    "    for paragraph in paragraphs:\n",
    "        # Check for section start\n",
    "        if \"Reposo\" in paragraph.text:\n",
    "            in_target_section = True\n",
    "        # Check for section end\n",
    "        elif \"Conclusión\" in paragraph.text:\n",
    "            in_target_section = False\n",
    "\n",
    "        # Remove empty paragraphs only within the target section\n",
    "        if in_target_section and not paragraph.text.strip():\n",
    "            p_element = paragraph._element\n",
    "            p_element.getparent().remove(p_element)"
   ]
  },
  {
   "cell_type": "code",
   "execution_count": 16,
   "id": "bfcce549-a800-440d-9e04-277f56dec282",
   "metadata": {},
   "outputs": [
    {
     "data": {
      "text/plain": [
       "(<docxtpl.template.DocxTemplate at 0x13b8c42c1a0>, 'stress')"
      ]
     },
     "execution_count": 16,
     "metadata": {},
     "output_type": "execute_result"
    }
   ],
   "source": [
    "from pathlib import Path\n",
    "path=Path(r'C:\\Users\\lucho\\Documents\\temp\\documentos\\[agustinaturcaloro]-[20250411016]-[eebae217-ce27-4afc-8b7c-e5d28df89468]\\22_S1-6P_Lucho Card.Report.V3.docx')\n",
    "template_selector(path)"
   ]
  }
 ],
 "metadata": {
  "kernelspec": {
   "display_name": "Python 3 (ipykernel)",
   "language": "python",
   "name": "python3"
  },
  "language_info": {
   "codemirror_mode": {
    "name": "ipython",
    "version": 3
   },
   "file_extension": ".py",
   "mimetype": "text/x-python",
   "name": "python",
   "nbconvert_exporter": "python",
   "pygments_lexer": "ipython3",
   "version": "3.13.3"
  }
 },
 "nbformat": 4,
 "nbformat_minor": 5
}
