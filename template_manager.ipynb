{
 "cells": [
  {
   "cell_type": "code",
   "execution_count": 1,
   "id": "47cc9dd5",
   "metadata": {},
   "outputs": [],
   "source": [
    "\n",
    "from docxtpl import DocxTemplate\n",
    "from docx import Document\n",
    "\n",
    "def template_selector(path)->tuple: \n",
    "    \n",
    "    '''\n",
    "    Carga por default el template de doppler cardiaco en el pendrive\n",
    "    acepta el path del estudio del paciente generado por el equipo vinno\n",
    "    Si el path contiene las palabras carotid, arteries o veins cambia al tipo de template correspondiente\n",
    "    si no encuentra estas palabras abre el docx y busca la palabra WMS en las tablas del informe (esto determinaria un ecostres)\n",
    "    si la encuentra cambia al ecostress\n",
    "    Devuelve el template correspondiente con el tipo de template, para ser usado en la funcion render template\n",
    "    '''\n",
    "    #por default elijo la plantilla de cardio\n",
    "    template_path=\"E:\\\\plantillas\\\\cardiowest\\\\auto\\\\auto card.docx\"\n",
    "    tipo='card'\n",
    "    path_str=str(path)\n",
    "    #chqueo si en el path esta la palabra carotida si esta cambio a esa plantilla\n",
    "    try:\n",
    "        if 'Carotid' in path_str:\n",
    "            template_path=\"E:\\\\plantillas\\\\cardiowest\\\\auto\\\\auto vc.docx\"  \n",
    "            tipo='carotid'\n",
    "        elif 'Arteries' in path_str :#art\n",
    "            template_path=\"E:\\\\plantillas\\\\cardiowest\\\\auto\\\\auto art.docx\"  \n",
    "            tipo='art'\n",
    "        elif'Veins' in path_str:\n",
    "            template_path=\"E:\\\\plantillas\\\\cardiowest\\\\auto\\\\auto ven.docx\"   \n",
    "            tipo='ven'\n",
    "        else: \n",
    "            #el try es porque para distinguir cardio de stress neceisto acceder a una tabla, si la tabla no esta para el progrmaa\n",
    "            #de esta manera con un try evito que se rompa si no esta y le asigo el valor default\n",
    "            doc=Document(path)\n",
    "            if doc.tables[2].rows[0].cells[0].text=='WMS':\n",
    "                template=DocxTemplate(\"E:\\\\plantillas\\\\cardiowest\\\\auto\\\\auto stress.docx\")\n",
    "                tipo='stress'\n",
    "    except (IndexError, AttributeError) as e:\n",
    "        # Log or handle specific exceptions if needed\n",
    "        print(f\"Error: {e}, defaulting to 'card' template.\")\n",
    "        \n",
    "    template = DocxTemplate(template_path)\n",
    "    return template,tipo"
   ]
  },
  {
   "cell_type": "code",
   "execution_count": null,
   "id": "3229de90",
   "metadata": {},
   "outputs": [],
   "source": []
  }
 ],
 "metadata": {
  "kernelspec": {
   "display_name": "Python 3 (ipykernel)",
   "language": "python",
   "name": "python3"
  },
  "language_info": {
   "codemirror_mode": {
    "name": "ipython",
    "version": 3
   },
   "file_extension": ".py",
   "mimetype": "text/x-python",
   "name": "python",
   "nbconvert_exporter": "python",
   "pygments_lexer": "ipython3",
   "version": "3.9.13"
  }
 },
 "nbformat": 4,
 "nbformat_minor": 5
}
