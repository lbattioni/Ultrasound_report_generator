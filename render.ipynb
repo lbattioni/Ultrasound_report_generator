{
 "cells": [
  {
   "cell_type": "code",
   "execution_count": 1,
   "id": "f88cb9b0",
   "metadata": {},
   "outputs": [],
   "source": [
    "import nbimporter\n",
    "from template_manager import template_selector\n",
    "from patient_data_extraction import extract_patient_info,extract_patient_measurements,image_extractor,mot_extractor\n",
    "from file_conversion import cargar_path\n",
    "from aux_calculations import conv_vel_grad,calc_e_e,list_and_len_checker,convert_to_float_and_round\n",
    "from docx import Document\n",
    "from docxtpl import DocxTemplate\n",
    "\n",
    "def render_template(path)-> None:\n",
    "    '''\n",
    "    acepta un path y determina si es cardiaco o stress, si son estos extrae medidas, tratornos de motilidad y mapa polar\n",
    "    Si no lo es extrae solamente datos del paciente y las imagenes del archivo docx producido por el equipo vinno\n",
    "    guarda la renderizaci'on en la misma carpeta donde estaba el docx para poder realizar una comparacion\n",
    "    \n",
    "    '''\n",
    "    doc=Document(path)\n",
    "    template,tipo=template_selector(path)\n",
    "    info_pac= extract_patient_info(doc)\n",
    "    image=image_extractor(doc,template,tipo=tipo)\n",
    "    #guardo el save path con nombre tipo de estudio y fecha en la misma carpeta.\n",
    "    save_path=str(path).rsplit('\\\\',1)[0]+f'\\\\{info_pac[\"Name\"]} {tipo} {info_pac[\"Exam Date\"]}.docx'\n",
    "    print(save_path)\n",
    "    print(tipo)\n",
    "    #Si es carotida solo van los datos del paciente\n",
    "    if tipo in ['card','stress']: \n",
    "        medidas= extract_patient_measurements(path)\n",
    "        #calculo gradiente VDAD\n",
    "        medidas['grad_vd_ad']= max([conv_vel_grad(i,'cm') for i in medidas['TR Vmax']])\n",
    "    \n",
    "        if list_and_len_checker('TR Vmax',medidas):\n",
    "            medidas['TR Vmax1']= convert_to_float_and_round(medidas['TR Vmax'][0])\n",
    "            medidas['TR Vmax2']=convert_to_float_and_round(medidas['TR Vmax'][1])\n",
    "        if tipo =='stress':\n",
    "            mot=mot_extractor(doc)\n",
    "            print(medidas['Med Vel E'])\n",
    "            calc_e_e(medidas)\n",
    "            context={**info_pac,**medidas,'image': image['image'], 'mot': mot['mot']}\n",
    "        #genero context\n",
    "        \n",
    "        else:\n",
    "            context={**info_pac,**medidas,'image': image['image']}\n",
    "    else: \n",
    "        context={**info_pac,'image': image['image']}\n",
    "        \n",
    "    #quito los espacios en los context para que no haya conflicto\n",
    "    context=(\n",
    "        {key.replace(' ', '_').replace('/','_').replace('(','_').replace(')','_').\n",
    "            replace('-','_'): value \n",
    "            for key, value in context.items()}\n",
    "            )\n",
    "\n",
    "    template.render(context)\n",
    "    #template.save(save_path)\n",
    "    print(f'informe {info_pac[\"Name\"]} creado con exito')\n",
    "        "
   ]
  },
  {
   "cell_type": "code",
   "execution_count": 2,
   "id": "acb491ae",
   "metadata": {},
   "outputs": [
    {
     "data": {
      "text/plain": [
       "WindowsPath('C:/Users/Luciano/Documents/temp/[albertodec rolando]-[]-[8c7e13cd-902a-46f2-8beb-df60ff1f8ab6]/7_S1-6P_Lucho Card.Report.V3.docx')"
      ]
     },
     "execution_count": 2,
     "metadata": {},
     "output_type": "execute_result"
    }
   ],
   "source": [
    "p=r\"C:\\Users\\Luciano\\Documents\\temp\\[albertodec rolando]-[]-[8c7e13cd-902a-46f2-8beb-df60ff1f8ab6]\"\n",
    "p=cargar_path(p)\n",
    "p[0]"
   ]
  }
 ],
 "metadata": {
  "kernelspec": {
   "display_name": "Python 3 (ipykernel)",
   "language": "python",
   "name": "python3"
  },
  "language_info": {
   "codemirror_mode": {
    "name": "ipython",
    "version": 3
   },
   "file_extension": ".py",
   "mimetype": "text/x-python",
   "name": "python",
   "nbconvert_exporter": "python",
   "pygments_lexer": "ipython3",
   "version": "3.9.13"
  }
 },
 "nbformat": 4,
 "nbformat_minor": 5
}
