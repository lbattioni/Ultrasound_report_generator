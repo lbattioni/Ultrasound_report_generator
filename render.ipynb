{
 "cells": [
  {
   "cell_type": "code",
   "execution_count": 3,
   "id": "af7d26dd",
   "metadata": {},
   "outputs": [],
   "source": [
    "import nbimporter\n",
    "from template_manager import template_selector\n",
    "from patient_data_extraction import extract_patient_info,image_extractor,generate_motility_report,get_measure_table,get_measurements,get_mot_table,mot_extractor\n",
    "from file_conversion import cargar_path\n",
    "from aux_calculations import remove_signs,expand_dict_with_lists_inplace, convert_to_float,calc_e_e_stress\n",
    "from docx import Document\n",
    "from docxtpl import DocxTemplate\n",
    "def render_template(path)-> None:\n",
    "    '''\n",
    "    acepta un path y determina si es cardiaco o stress, si son estos extrae medidas, tratornos de motilidad y mapa polar\n",
    "    Si no lo es, extrae solamente datos del paciente y las imagenes del archivo docx producido por el equipo vinno\n",
    "    guarda la renderizaci'on en la misma carpeta donde estaba el docx para poder realizar una comparacion\n",
    "        \n",
    "    '''\n",
    "    doc=Document(path)\n",
    "    template,tipo=template_selector(path)\n",
    "    info_pac= extract_patient_info(doc)\n",
    "    image=image_extractor(doc,template,tipo=tipo)\n",
    "    #guardo el save path con nombre tipo de estudio y fecha en la misma carpeta.\n",
    "    save_path=str(path).rsplit('\\\\',1)[0]+f'\\\\{info_pac[\"Name\"]} {tipo} {info_pac[\"Exam_Date\"]}.docx'\n",
    "    print(save_path)\n",
    "    print(tipo)\n",
    "    #Si es carotida solo van los datos del paciente\n",
    "    if tipo in ['card','stress']: \n",
    "        measurements_table=get_measure_table(doc)\n",
    "        measurements_dic=get_measurements(measurements_table) \n",
    "        if tipo =='stress':\n",
    "            mot_table=get_mot_table(doc)\n",
    "            mot=mot_extractor(mot_table)\n",
    "            mot_report=generate_motility_report(mot)\n",
    "            measurements_dic['E_e_rel'],measurements_dic['e_e_avg']=calc_e_e_stress(measurements_dic)\n",
    "\n",
    "            context={**info_pac,**measurements_dic,'image': image['image'], 'mot': mot['mot'],**mot_report}\n",
    "        \n",
    "        else:\n",
    "            context={**info_pac,**measurements_dic,'image': image['image']}\n",
    "    else: \n",
    "        context={**info_pac,'image': image['image']}   \n",
    "    template.render(context)\n",
    "    template.save(save_path)\n",
    "    print(f'informe {info_pac[\"Name\"]} creado con exito')"
   ]
  },
  {
   "cell_type": "code",
   "execution_count": null,
   "id": "d216eb26",
   "metadata": {},
   "outputs": [],
   "source": [
    "lista_de_trabajo=cargar_path(r\"C:\\Users\\Luciano\\Documents\\temp\\documentos\")\n"
   ]
  },
  {
   "cell_type": "code",
   "execution_count": null,
   "id": "9aa2767a",
   "metadata": {},
   "outputs": [],
   "source": [
    "for index,i in enumerate(lista_de_trabajo):\n",
    "    print(f'archivo N {index}')\n",
    "    render_template(i)\n",
    "\n",
    "        "
   ]
  },
  {
   "cell_type": "markdown",
   "id": "22e22549",
   "metadata": {},
   "source": [
    "# Context dict:\n",
    "\n",
    "## Patient data\n",
    "    {\n",
    "    'Name': str, 'Patient_ID': str, \n",
    "    'Age': str(edad)+ 'y', 'Gender': str, \n",
    "    'Exam_Date': str(mm-dd-yyyy), \n",
    "    'Perf.Physician': str, \n",
    "    'Ref.Physician': str, \n",
    "    'Operator': str\n",
    "    }\n",
    "    \n",
    "## Measurements (if more than one, list of the same type)\n",
    "    {\n",
    "    'CARD_card2_2D_General': None, 'IVC_Diam': mm float or list float, \n",
    "    'IVSd': mm int, 'LVIDd': mm int , 'LVPWd': mm int, 'IVSs': mm float, 'LVIDs': mm int, 'LVPWs': mm float,\n",
    "    'Ao_Diam': mm int, 'RAAd': diam cm2 int, 'Distance': mm int, 'LAAd': volume ml/m2 float,\n",
    "    'A4C_Simpson': % str, 'LVEDV': float ml, 'LVESV': float ml, 'LVAd': float cm2, 'LVLd': float cm2, 'LVAs': float,   'LVLs':float, \n",
    "    'CARD_card2_M_General': None, 'TAPSE': float mm, \n",
    "    'CARD_card2_Doppler_General': None, \n",
    "    'AV_Vmax': float m/seg, 'AV_Vmax_grad': float mmHg, 'PG': float mmHg, \n",
    "    'LVOT_Vmax': float m/seg, 'LVOT_Vmax_grad': float mmHg, \n",
    "    'MV_Vel_E': float m/seg, 'MV_Vel_E_grad': float mmHg, 'MV_Vel_A': float m/seg, 'MV_Vel_A_grad': float mmHg,\n",
    "    'Med_Vel_E': float cm/seg, 'Lat_Vel_E': float cm/seg, 'IVRT': float msec,\n",
    "    'Calculation_Item': 'Result', 'card2': None, 'FS_2D': % int, 'LVIDs_Index_2D': ml/m2 float, 'LVd_Mass_2D_ASE': float gr,\n",
    "    'LVd_Mass_Index_2D_ASE': int gr/m2, 'RWT_2D': dimless %, 'IVS_2D': 7.16, 'LVPW_2D': 1.12, 'LVESVI_A4C_Simp': float ml/m2, 'CSA_AV_SV': 7.61, 'MV_E_A_Ratio': float, 'AV_VR': float, 'E_Med_E': float, 'E_Lat_E': float, 'Average_E': float, 'E_Avg_E': float\n",
    "    }\n",
    "    \n",
    "## Image\n",
    "\n",
    "    { 'key': 'imageN',\n",
    "      'image': docxtpl.inline_image.InlineImage,\n",
    "      'key': 'imageN+1',\n",
    "      'image':docxtpl.inline_image.InlineImage,\n",
    "      ...\n",
    "    }\n",
    "    \n",
    "## MOT\n",
    "\n",
    "    {\n",
    "    \n",
    "    }\n",
    " "
   ]
  },
  {
   "cell_type": "code",
   "execution_count": 4,
   "id": "f309ef1f",
   "metadata": {},
   "outputs": [
    {
     "name": "stdout",
     "output_type": "stream",
     "text": [
      "C:\\Users\\Luciano\\Desktop\\tests\\[bartolosanchez]-[20241127003]-[26d6871d-41e5-4b97-a0e1-12fcd09f8cd1]\\sanchez ricardo bartolo stress 11-27-2024.docx\n",
      "stress\n",
      "informe sanchez ricardo bartolo creado con exito\n"
     ]
    }
   ],
   "source": [
    "path=r\"C:\\Users\\Luciano\\Desktop\\tests\\[bartolosanchez]-[20241127003]-[26d6871d-41e5-4b97-a0e1-12fcd09f8cd1]\\10_S1-6P_card2.Report.V3.docx\"\n",
    "render_template(path)"
   ]
  },
  {
   "cell_type": "code",
   "execution_count": null,
   "id": "9b4d8687",
   "metadata": {},
   "outputs": [],
   "source": []
  }
 ],
 "metadata": {
  "kernelspec": {
   "display_name": "Python 3 (ipykernel)",
   "language": "python",
   "name": "python3"
  },
  "language_info": {
   "codemirror_mode": {
    "name": "ipython",
    "version": 3
   },
   "file_extension": ".py",
   "mimetype": "text/x-python",
   "name": "python",
   "nbconvert_exporter": "python",
   "pygments_lexer": "ipython3",
   "version": "3.9.13"
  }
 },
 "nbformat": 4,
 "nbformat_minor": 5
}
